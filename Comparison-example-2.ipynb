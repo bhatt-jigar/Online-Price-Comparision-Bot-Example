{
 "cells": [
  {
   "cell_type": "code",
   "execution_count": 4,
   "metadata": {},
   "outputs": [
    {
     "name": "stdout",
     "output_type": "stream",
     "text": [
      "Getting inside the while loop.\n"
     ]
    }
   ],
   "source": [
    "from selenium import webdriver\n",
    "import smtplib\n",
    "import schedule\n",
    "browser=webdriver.Chrome(\"C:\\\\Users\\\\jbhat\\\\Downloads\\\\ChromeDriver\\\\chromedriver.exe\") #cd is the path to chromedriver.exe\n",
    "\n",
    "def get_price():\n",
    "\tbrowser.get('https://www.amazon.in/HP-Processor-15-6-inch-i5-10300H-15-ek0017TX/dp/B08CGMGQ3P/ref=sr_1_7?dchild=1&keywords=hp+omen&qid=1597230086&s=computers&sr=1-7')\n",
    "\tpe=browser.find_element_by_id('priceblock_ourprice')\n",
    "\tpr=pe.get_attribute('textContent')\n",
    "\tpr=pr[2:]\n",
    "\tpl=pr.split(',')\n",
    "\n",
    "\tprice_a=''\n",
    "\tfor i in pl:\n",
    "\t\tprice_a+=i\n",
    "\n",
    "\tprice_a=float(price_a)\n",
    "\treturn price_a\n",
    "def mail():\n",
    "\ts=smtplib.SMTP('smtp.gmail.com' , 587)\n",
    "\ts.starttls()\n",
    "\t#change this else code will not work\n",
    "\tml='sender@gmail.com'\n",
    "\t#change this else code will not work\n",
    "\tpw='senderPassword'\n",
    "\ts.login(ml,pw)\n",
    "\t#change this else code will not work\n",
    "\tmt='target@gmail.com'\n",
    "\tmessage='Hurry Up. the price is low now. Grab the deal.'\n",
    "\ts.sendmail(ml, mt, message)\n",
    "\ts.quit()\n",
    "\n",
    "\n",
    "\n",
    "def task():\n",
    "\tp=190000.00\n",
    "\ta=get_price()\n",
    "\n",
    "\tif(a<=p):\n",
    "\t\tmail()\n",
    "\t\tprint(\"MAILED\")\n",
    "\telse:\n",
    "\t\tprint(\"Don't Buy\")\n",
    "\n",
    "schedule.every(10).seconds.do(task)\n",
    "print(\"Getting inside the while loop.\")\n",
    "while True:\n",
    "\tschedule.run_pending()\n",
    "    "
   ]
  }
 ],
 "metadata": {
  "kernelspec": {
   "display_name": "Python 3",
   "language": "python",
   "name": "python3"
  },
  "language_info": {
   "codemirror_mode": {
    "name": "ipython",
    "version": 3
   },
   "file_extension": ".py",
   "mimetype": "text/x-python",
   "name": "python",
   "nbconvert_exporter": "python",
   "pygments_lexer": "ipython3",
   "version": "3.7.1"
  }
 },
 "nbformat": 4,
 "nbformat_minor": 2
}
